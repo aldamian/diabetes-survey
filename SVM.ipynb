{
  "cells": [
    {
      "cell_type": "markdown",
      "metadata": {
        "id": "view-in-github",
        "colab_type": "text"
      },
      "source": [
        "<a href=\"https://colab.research.google.com/github/ApollineP/Group9/blob/master/SVM.ipynb\" target=\"_parent\"><img src=\"https://colab.research.google.com/assets/colab-badge.svg\" alt=\"Open In Colab\"/></a>"
      ]
    },
    {
      "cell_type": "markdown",
      "metadata": {
        "id": "p5V6uE6UCWpT"
      },
      "source": [
        "<center> <h1> Support Vector Machine model for diabetes dataset </h1> </center>\n",
        "        \n",
        "\n",
        "<h5> The notebook will walk you through the different steps from preprocessing the data, to creating and finetuning our Support Vector Machine model, then evaluating it on the test set </h5>"
      ]
    },
    {
      "cell_type": "markdown",
      "metadata": {
        "id": "WeU0qNDeCcVu"
      },
      "source": [
        "# Imports"
      ]
    },
    {
      "cell_type": "code",
      "execution_count": null,
      "metadata": {
        "id": "T5XcZSmGCVgR"
      },
      "outputs": [],
      "source": [
        "import pandas as pd\n",
        "import numpy as np\n",
        "from matplotlib import pyplot as plt\n",
        "from sklearn.model_selection import train_test_split\n",
        "from sklearn.preprocessing import PolynomialFeatures, OneHotEncoder, MinMaxScaler\n",
        "from sklearn.pipeline import Pipeline\n",
        "from sklearn.compose import ColumnTransformer\n",
        "from sklearn.metrics import (\n",
        "    roc_curve,\n",
        "    precision_recall_curve,\n",
        ")\n",
        "from sklearn.metrics import (\n",
        "    average_precision_score,\n",
        "    precision_score,\n",
        "    recall_score,\n",
        "    f1_score,\n",
        "    confusion_matrix,\n",
        "    matthews_corrcoef,\n",
        "    accuracy_score,\n",
        "    classification_report\n",
        "    \n",
        ")\n",
        "from sklearn import svm\n",
        "from sklearn import metrics\n",
        "from pandas import read_csv\n",
        "from pandas import set_option\n",
        "from tensorflow import keras\n",
        "import seaborn as sns\n",
        "from google.colab import files"
      ]
    },
    {
      "cell_type": "markdown",
      "metadata": {
        "id": "FfcM51VJCnJO"
      },
      "source": [
        "# Preprocessing"
      ]
    },
    {
      "cell_type": "code",
      "execution_count": null,
      "metadata": {
        "id": "FGtuq8cRC2Sx"
      },
      "outputs": [],
      "source": [
        "def preprocess(df):\n",
        "  df['bmi_group'] = pd.cut(df['BMI'], (0, 16, 18.5, 25, 30, 35, 40, np.inf), labels=[1, 2, 3, 4, 5, 6, 7])\n",
        "  df.BMI = df['bmi_group']\n",
        "  df.drop('bmi_group', axis=1, inplace=True)\n",
        "  df.BMI = df.BMI.astype('float')\n",
        "  X = df[df.columns[1:]]\n",
        "  y = df[df.columns[0]]\n",
        "  return X,y"
      ]
    },
    {
      "cell_type": "code",
      "execution_count": null,
      "metadata": {
        "id": "gW_Z5j25CgIO"
      },
      "outputs": [],
      "source": [
        "# files.upload()\n",
        "dataset_wfs = pd.read_csv('diabetes_binary_5050split_health_indicators_BRFSS2015.csv')\n",
        "# with all features\n",
        "X_wfs, y_wfs = preprocess(dataset_wfs)\n",
        "X_train_wfs, X_test_wfs, y_train_wfs, y_test_wfs = train_test_split(X_wfs, y_wfs, random_state=42)\n",
        "X_train_wfs, X_val_wfs, y_train_wfs, y_val_wfs = train_test_split(X_train_wfs, y_train_wfs, test_size=0.10, random_state=42)"
      ]
    },
    {
      "cell_type": "code",
      "execution_count": null,
      "metadata": {
        "id": "G7OdtzTfDRDY"
      },
      "outputs": [],
      "source": [
        "dataset_7 = dataset_wfs.drop(columns=['CholCheck','Smoker','PhysActivity','Fruits','Veggies','AnyHealthcare','NoDocbcCost','MentHlth','PhysHlth','Sex','Age','Education','Income'], axis=1, inplace=False)\n",
        "# with 7 important features\n",
        "X_7, y_7 = preprocess(dataset_7)\n",
        "X_train_7, X_test_7, y_train_7, y_test_7 = train_test_split(X_7, y_7, random_state=42)\n",
        "X_train_7, X_val_7, y_train_7, y_val_7 = train_test_split(X_train_7, y_train_7, test_size=0.10, random_state=42)"
      ]
    },
    {
      "cell_type": "code",
      "execution_count": null,
      "metadata": {
        "id": "9UAiylImDguv"
      },
      "outputs": [],
      "source": [
        "dataset_4 = dataset_wfs.drop(columns=['CholCheck','Smoker','PhysActivity','Fruits','Veggies','AnyHealthcare','NoDocbcCost','MentHlth','PhysHlth','Sex','Age','Education','Income','HvyAlcoholConsump','HeartDiseaseorAttack','DiffWalk'], axis=1, inplace=False)\n",
        "# with 4 most important features\n",
        "X_4, y_4 = preprocess(dataset_4)\n",
        "X_train_4, X_test_4, y_train_4, y_test_4 = train_test_split(X_4, y_4, random_state=42)\n",
        "X_train_4, X_val_4, y_train_4, y_val_4 = train_test_split(X_train_4, y_train_4, test_size=0.10, random_state=42)"
      ]
    },
    {
      "cell_type": "markdown",
      "metadata": {
        "id": "_j0NUoczEjYh"
      },
      "source": [
        "One hot encoding the data"
      ]
    },
    {
      "cell_type": "code",
      "execution_count": null,
      "metadata": {
        "id": "RHKNlKmREem4"
      },
      "outputs": [],
      "source": [
        "colTrans = OneHotEncoder(handle_unknown='ignore', sparse=False)\n",
        "X_train_wfs_trans = colTrans.fit_transform(X_train_wfs)\n",
        "X_test_wfs_trans = colTrans.transform(X_test_wfs)\n",
        "X_train_7_trans = colTrans.fit_transform(X_train_7)\n",
        "X_test_7_trans = colTrans.transform(X_test_7)\n",
        "X_train_4_trans = colTrans.fit_transform(X_train_4)\n",
        "X_test_4_trans = colTrans.transform(X_test_4)"
      ]
    },
    {
      "cell_type": "markdown",
      "metadata": {
        "id": "vHZM_282EujW"
      },
      "source": [
        "# Model"
      ]
    },
    {
      "cell_type": "markdown",
      "source": [
        "## Kernel experiments\n",
        "This experiment aims to find the best kernel to use"
      ],
      "metadata": {
        "id": "7OuvPTDG7cm8"
      }
    },
    {
      "cell_type": "code",
      "source": [
        "#poly Kernel\n",
        "kernels = [\"linear\", \"rbf\", \"poly\", \"sigmoid\"]\n",
        "for kernel in kernels:\n",
        "  #Create a svm Classifier\n",
        "  clf = svm.SVC(kernel=kernel)\n",
        "  #Train the model using the training sets\n",
        "  clf.fit(X_train_wfs_trans, y_train_wfs)\n",
        "  #Predict the response for test dataset\n",
        "  y_pred = clf.predict(X_test_wfs_trans)\n",
        "\n",
        "  conf_mat_wfs = confusion_matrix(y_test_wfs,y_pred)\n",
        "  sensitivity_wfs = conf_mat_wfs[1,1] / (conf_mat_wfs[0,1] + conf_mat_wfs[1,1])\n",
        "\n",
        "  print(\"Sensitivity: \",sensitivity_wfs)\n",
        "  print(\"Accuracy:\",metrics.accuracy_score(y_test_wfs, y_pred))\n",
        "  print(\"MCC:\", metrics.matthews_corrcoef(y_test_wfs, y_pred))\n",
        "  print(\"\\n\")\n",
        "  print(\"Classification Report:\")\n",
        "  print(classification_report(y_test_wfs,y_pred))\n",
        "\n",
        "  ax = sns.heatmap(confusion_matrix(y_test_wfs, y_pred), annot=True, cmap='Blues')\n",
        "\n",
        "  ax.set_title(f'Kernel: {kernel}');\n",
        "  ax.set_xlabel('\\nPredicted Values')\n",
        "  ax.set_ylabel('Actual Values ');\n",
        "\n",
        "  ## Ticket labels - List must be in alphabetical order\n",
        "  ax.xaxis.set_ticklabels(['False','True'])\n",
        "  ax.yaxis.set_ticklabels(['False','True'])\n",
        "\n",
        "  ## Display the visualization of the Confusion Matrix.\n",
        "  plt.show()\n",
        "  print(\"------------------------------------------\")"
      ],
      "metadata": {
        "id": "wm0llxHU7WQm"
      },
      "execution_count": null,
      "outputs": []
    },
    {
      "cell_type": "markdown",
      "metadata": {
        "id": "uE-W6Y-AFQKO"
      },
      "source": [
        "## feature experiments\n",
        "The model will be trained on different subsets of the dataset, and on the whole dataset"
      ]
    },
    {
      "cell_type": "code",
      "execution_count": null,
      "metadata": {
        "colab": {
          "base_uri": "https://localhost:8080/",
          "height": 581
        },
        "id": "lGAfzelGErUg",
        "outputId": "24507b3c-380b-4a9e-df24-4233729948a5"
      },
      "outputs": [
        {
          "output_type": "stream",
          "name": "stdout",
          "text": [
            "Sensitivity:  0.7254048582995951\n",
            "Accuracy: 0.7516550670514344\n",
            "MCC: 0.5067693070119464\n",
            "\n",
            "\n",
            "Classification Report:\n",
            "              precision    recall  f1-score   support\n",
            "\n",
            "         0.0       0.78      0.69      0.74      8830\n",
            "         1.0       0.73      0.81      0.77      8843\n",
            "\n",
            "    accuracy                           0.75     17673\n",
            "   macro avg       0.76      0.75      0.75     17673\n",
            "weighted avg       0.76      0.75      0.75     17673\n",
            "\n"
          ]
        },
        {
          "output_type": "display_data",
          "data": {
            "text/plain": [
              "<Figure size 432x288 with 2 Axes>"
            ],
            "image/png": "[encoded data removed]"
          },
          "metadata": {
            "needs_background": "light"
          }
        }
      ],
      "source": [
        "#Poly Kernel without feature selection (wfs)\n",
        "\n",
        "\n",
        "#Create a svm Classifier\n",
        "clf = svm.SVC(kernel='poly')\n",
        "#Train the model using the training sets\n",
        "clf.fit(X_train_wfs_trans, y_train_wfs)\n",
        "#Predict the response for test dataset\n",
        "y_pred_wfs = clf.predict(X_test_wfs_trans)\n",
        "\n",
        "conf_mat_wfs = confusion_matrix(y_test_wfs,y_pred_wfs)\n",
        "sensitivity_wfs = conf_mat_wfs[1,1] / (conf_mat_wfs[0,1] + conf_mat_wfs[1,1])\n",
        "\n",
        "\n",
        "print(\"Sensitivity: \",sensitivity_wfs)\n",
        "print(\"Accuracy:\",metrics.accuracy_score(y_test_wfs, y_pred_wfs))\n",
        "print(\"MCC:\", metrics.matthews_corrcoef(y_test_wfs, y_pred_wfs))\n",
        "print(\"\\n\")\n",
        "print(\"Classification Report:\")\n",
        "print(classification_report(y_test_wfs,y_pred_wfs))\n",
        "\n",
        "ax = sns.heatmap(confusion_matrix(y_test_wfs,y_pred_wfs), annot=True, cmap='Blues')\n",
        "\n",
        "ax.set_title('Kernel: Poly');\n",
        "ax.set_xlabel('\\nPredicted Values')\n",
        "ax.set_ylabel('Actual Values ');\n",
        "\n",
        "## Ticket labels - List must be in alphabetical order\n",
        "ax.xaxis.set_ticklabels(['False','True'])\n",
        "ax.yaxis.set_ticklabels(['False','True'])\n",
        "\n",
        "## Display the visualization of the Confusion Matrix.\n",
        "plt.show()"
      ]
    },
    {
      "cell_type": "code",
      "execution_count": null,
      "metadata": {
        "colab": {
          "base_uri": "https://localhost:8080/",
          "height": 581
        },
        "id": "Nja1G-wzGZ1G",
        "outputId": "fac25b5d-4721-419b-ad63-f2ac1fdb74bd"
      },
      "outputs": [
        {
          "output_type": "stream",
          "name": "stdout",
          "text": [
            "Sensitivity:  0.6913022113022113\n",
            "Accuracy: 0.7199117297572568\n",
            "MCC: 0.4448451164708325\n",
            "\n",
            "\n",
            "Classification Report:\n",
            "              precision    recall  f1-score   support\n",
            "\n",
            "         0.0       0.76      0.64      0.70      8830\n",
            "         1.0       0.69      0.80      0.74      8843\n",
            "\n",
            "    accuracy                           0.72     17673\n",
            "   macro avg       0.73      0.72      0.72     17673\n",
            "weighted avg       0.72      0.72      0.72     17673\n",
            "\n"
          ]
        },
        {
          "output_type": "display_data",
          "data": {
            "text/plain": [
              "<Figure size 432x288 with 2 Axes>"
            ],
            "image/png": "[encoded data removed]"
          },
          "metadata": {
            "needs_background": "light"
          }
        }
      ],
      "source": [
        "#Poly Kernel with 7 features\n",
        "\n",
        "\n",
        "#Create a svm Classifier\n",
        "clf = svm.SVC(kernel='poly')\n",
        "#Train the model using the training sets\n",
        "clf.fit(X_train_7_trans, y_train_7)\n",
        "#Predict the response for test dataset\n",
        "y_pred_7 = clf.predict(X_test_7_trans)\n",
        "\n",
        "conf_mat_7 = confusion_matrix(y_test_7,y_pred_7)\n",
        "sensitivity_7 = conf_mat_7[1,1] / (conf_mat_7[0,1] + conf_mat_7[1,1])\n",
        "\n",
        "\n",
        "print(\"Sensitivity: \",sensitivity_7)\n",
        "print(\"Accuracy:\",metrics.accuracy_score(y_test_7, y_pred_7))\n",
        "print(\"MCC:\", metrics.matthews_corrcoef(y_test_7, y_pred_7))\n",
        "\n",
        "print(\"\\n\")\n",
        "print(\"Classification Report:\")\n",
        "print(classification_report(y_test_7, y_pred_7))\n",
        "\n",
        "ax = sns.heatmap(confusion_matrix(y_test_7, y_pred_7), annot=True, cmap='Blues')\n",
        "\n",
        "ax.set_title('Kernel: Poly');\n",
        "ax.set_xlabel('\\nPredicted Values')\n",
        "ax.set_ylabel('Actual Values ');\n",
        "\n",
        "## Ticket labels - List must be in alphabetical order\n",
        "ax.xaxis.set_ticklabels(['False','True'])\n",
        "ax.yaxis.set_ticklabels(['False','True'])\n",
        "\n",
        "## Display the visualization of the Confusion Matrix.\n",
        "plt.show()"
      ]
    },
    {
      "cell_type": "code",
      "execution_count": null,
      "metadata": {
        "colab": {
          "base_uri": "https://localhost:8080/",
          "height": 581
        },
        "id": "vJ5u_3hBGG2e",
        "outputId": "57166f9e-8d00-4f4e-e9b7-0615bf3fc0ba"
      },
      "outputs": [
        {
          "output_type": "stream",
          "name": "stdout",
          "text": [
            "Sensitivity:  0.6866193761539209\n",
            "Accuracy: 0.7169693883324846\n",
            "MCC: 0.43981684167731144\n",
            "\n",
            "\n",
            "Classification Report:\n",
            "              precision    recall  f1-score   support\n",
            "\n",
            "         0.0       0.76      0.63      0.69      8830\n",
            "         1.0       0.69      0.80      0.74      8843\n",
            "\n",
            "    accuracy                           0.72     17673\n",
            "   macro avg       0.72      0.72      0.72     17673\n",
            "weighted avg       0.72      0.72      0.72     17673\n",
            "\n"
          ]
        },
        {
          "output_type": "display_data",
          "data": {
            "text/plain": [
              "<Figure size 432x288 with 2 Axes>"
            ],
            "image/png": "[encoded data removed]"
          },
          "metadata": {
            "needs_background": "light"
          }
        }
      ],
      "source": [
        "#Poly Kernel with 4 features\n",
        "\n",
        "\n",
        "#Create a svm Classifier\n",
        "clf = svm.SVC(kernel='poly')\n",
        "#Train the model using the training sets\n",
        "clf.fit(X_train_4_trans, y_train_4)\n",
        "#Predict the response for test dataset\n",
        "y_pred_4 = clf.predict(X_test_4_trans)\n",
        "\n",
        "conf_mat_4 = confusion_matrix(y_test_4,y_pred_4)\n",
        "sensitivity_4 = conf_mat_4[1,1] / (conf_mat_4[0,1] + conf_mat_4[1,1])\n",
        "\n",
        "\n",
        "print(\"Sensitivity: \",sensitivity_4)\n",
        "print(\"Accuracy:\",metrics.accuracy_score(y_test_4, y_pred_4))\n",
        "print(\"MCC:\", metrics.matthews_corrcoef(y_test_4, y_pred_4))\n",
        "print(\"\\n\")\n",
        "print(\"Classification Report:\")\n",
        "print(classification_report(y_test_4, y_pred_4))\n",
        "\n",
        "ax = sns.heatmap(confusion_matrix(y_test_4, y_pred_4), annot=True, cmap='Blues')\n",
        "\n",
        "ax.set_title('Kernel: Poly');\n",
        "ax.set_xlabel('\\nPredicted Values')\n",
        "ax.set_ylabel('Actual Values ');\n",
        "\n",
        "## Ticket labels - List must be in alphabetical order\n",
        "ax.xaxis.set_ticklabels(['False','True'])\n",
        "ax.yaxis.set_ticklabels(['False','True'])\n",
        "\n",
        "## Display the visualization of the Confusion Matrix.\n",
        "plt.show()"
      ]
    },
    {
      "cell_type": "code",
      "execution_count": null,
      "metadata": {
        "id": "rYt6ExNHQeMU"
      },
      "outputs": [],
      "source": [
        "# visualize the different kernels by plotting BMI and PhysHlth\n",
        "\n",
        "X = X_train_4[['BMI', 'PhysHlth']]  \n",
        "                      \n",
        "X = X.to_numpy()\n",
        "y = y_train_4.to_numpy()\n",
        "\n",
        "h = .02  # step size in the mesh\n",
        "\n",
        "# we create an instance of SVM and fit out data. We do not scale our\n",
        "# data since we want to plot the support vectors\n",
        "C = 1.0  # SVM regularization parameter\n",
        "svc = svm.SVC(kernel='linear', C=C).fit(X, y)\n",
        "rbf_svc = svm.SVC(kernel='rbf', gamma=0.7, C=C).fit(X, y)\n",
        "poly_svc = svm.SVC(kernel='poly', degree=3, C=C).fit(X, y)\n",
        "sig_svc = svm.SVC(kernel='sigmoid',C=C).fit(X, y)\n",
        "\n",
        "# create a mesh to plot in\n",
        "x_min, x_max = X[:, 0].min() - 1, X[:, 0].max() + 1\n",
        "y_min, y_max = X[:, 1].min() - 1, X[:, 1].max() + 1\n",
        "xx, yy = np.meshgrid(np.arange(x_min, x_max, h),\n",
        "                     np.arange(y_min, y_max, h))\n",
        "\n",
        "# title for the plots\n",
        "titles = ['SVC with linear kernel',\n",
        "          'SVC with sigmoid kernel',\n",
        "          'SVC with RBF kernel',\n",
        "          'SVC with polynomial (degree 3) kernel']\n",
        "\n",
        "\n",
        "for i, clf in enumerate((svc, sig_svc, rbf_svc, poly_svc)):\n",
        "    # Plot the decision boundary. For that, we will assign a color to each\n",
        "    # point in the mesh [x_min, x_max]x[y_min, y_max].\n",
        "    plt.subplot(2, 2, i + 1)\n",
        "    plt.subplots_adjust(wspace=0.4, hspace=0.4)\n",
        "\n",
        "    Z = clf.predict(np.c_[xx.ravel(), yy.ravel()])\n",
        "\n",
        "    # Put the result into a color plot\n",
        "    Z = Z.reshape(xx.shape)\n",
        "    plt.contourf(xx, yy, Z, cmap=plt.cm.coolwarm, alpha=0.8)\n",
        "\n",
        "    # Plot also the training points\n",
        "    plt.scatter(X[:, 0], X[:, 1], c=y, cmap=plt.cm.coolwarm)\n",
        "    plt.xlabel('BMI')\n",
        "    plt.ylabel('PhysHlth')\n",
        "    plt.xlim(xx.min(), xx.max())\n",
        "    plt.ylim(yy.min(), yy.max())\n",
        "    plt.xticks(())\n",
        "    plt.yticks(())\n",
        "    plt.title(titles[i])\n",
        "\n",
        "plt.show()"
      ]
    }
  ],
  "metadata": {
    "colab": {
      "collapsed_sections": [],
      "name": "SVM.ipynb",
      "provenance": [],
      "include_colab_link": true
    },
    "kernelspec": {
      "display_name": "Python 3",
      "name": "python3"
    },
    "language_info": {
      "name": "python"
    }
  },
  "nbformat": 4,
  "nbformat_minor": 0
}